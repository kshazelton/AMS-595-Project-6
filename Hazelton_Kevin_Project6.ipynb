{
 "cells": [
  {
   "cell_type": "markdown",
   "metadata": {
    "id": "xq__bChjD04e"
   },
   "source": [
    "# Python Assignment 3"
   ]
  },
  {
   "cell_type": "markdown",
   "metadata": {
    "id": "y7j2V0UDMYLG"
   },
   "source": [
    "⏱⏱⏱**Due: 12/01/2024 11:59:59 PM** ⏱⏱⏱\n",
    "\n",
    "Please submit your notebook files and upload them to your Git repository. Don't forget to include a link to your Git repository when submitting this file on Brightspace."
   ]
  },
  {
   "cell_type": "markdown",
   "metadata": {
    "id": "SUS30Ew9D04n"
   },
   "source": [
    "Total points: 150 (equivalent to 15 points after conversion)"
   ]
  },
  {
   "cell_type": "markdown",
   "metadata": {
    "id": "SQ8W8KvamwFC"
   },
   "source": [
    "I have provided some guidance in comments to help you through the steps, but feel free to approach this in a different way if you prefer. **Feel free to disregard my comments if you have an alternative approach in mind.**"
   ]
  },
  {
   "cell_type": "markdown",
   "metadata": {
    "id": "KR0Fl4yAQYad"
   },
   "source": [
    "## 1. Good presentation of your code and outputs; submitting your files to Github (10 pts)"
   ]
  },
  {
   "cell_type": "markdown",
   "metadata": {
    "id": "9WPZWhYQkptT"
   },
   "source": [
    "Ensure thorough and clear comments within your code to explain its functionality.\n",
    "\n",
    "Enhance your plots by adding titles, legends, and axis labels where appropriate to provide clarity.\n",
    "\n",
    "If necessary, employ LaTex notation to present mathematical explanations within the notebook.\n",
    "\n",
    "Divide your code into multiple blocks or cells in Jupyter Notebook and provide descriptive explanations for each block to improve readability.\n",
    "\n",
    "As part of your submission, include the notebook files and upload them to your Git repository. Additionally, remember to provide a link to your Git repository when submitting the files on Brightspace.\n",
    "\n",
    "Please adhere to the constraint of using only the `numpy`, `scipy`, and `matplotlib` libraries for this assignment, as it is feasible to complete the task without introducing additional libraries or packages.\n",
    "\n"
   ]
  },
  {
   "cell_type": "markdown",
   "metadata": {
    "id": "E1RrC_zGPPkU"
   },
   "source": [
    "## 2. Implementing Gradient Descent Algorithm (60 pts)"
   ]
  },
  {
   "cell_type": "markdown",
   "metadata": {
    "id": "k4UbpYwuWxcc"
   },
   "source": [
    "Given a function $f(x) = \\sqrt{x^2+5}$, $x\\in \\mathbf{R}$.\n",
    "\n",
    "Fact: This function is L-smooth.\n",
    "0. Find the gradient of this function and the minimum value of this function analytically.\n",
    "\n",
    "\n",
    "1. Plot this function over the interval $[-5, 5]$.\n",
    "2. Perform the Gradient Descent algorithm to find the minimum value of $f$ for $50$ iterations ($T$) with a step size of $1$ ($\\alpha$). Use the last digit of your SB ID divided by 5 and then plus 1 as the initial guess (for example, if your ID ends with 9, your initial guess $x_0$ will be $9\\div5 + 1= 2.8$).\n",
    "3. Record the values of $x_k$ at the $k$-th iteration during GD and report $x_T$.\n",
    "4. Plot the value of $f(x_k)$ v.s. the iteration number $k$.\n",
    "5. For each of the step sizes 5, 3, 1, and 0.5, perform gradient descent and record the values of $x_k$ in each step $k$. Plot $f(x_{k-1}) - f(x_{k})$ v.s. $k$ for each step size. Your graphs should all be included in a single plot. Examine if $f(x_{k-1}) - f(x_{k})$ (which means that $f(x_k)$ is always decreasing) is alway positive for all $k$."
   ]
  },
  {
   "cell_type": "markdown",
   "metadata": {
    "id": "yyFNzkLNqaLe"
   },
   "source": [
    "Here are some sample output graphs. Yours do not have to look exactly like mine, it is just for your reference.\n",
    "![o1](https://raw.githubusercontent.com/wenhangao21/AMS595-Teaching/main/o1.png)\n",
    "![o2](https://raw.githubusercontent.com/wenhangao21/AMS595-Teaching/main/o2.png)\n",
    "![o3](https://raw.githubusercontent.com/wenhangao21/AMS595-Teaching/main/o3.png)\n",
    "\n",
    "Please note that the graphs generated as output may not precisely match the ones I'm providing here. The disparities could be significant, as I'm presenting a general overview of the expected graph. I've adjusted certain parameters/plot information in the graph generation process to prevent disclosing the \"answer/solution\".&nbsp;\n"
   ]
  },
  {
   "cell_type": "code",
   "execution_count": null,
   "metadata": {
    "id": "1FB20kJ3mFOU"
   },
   "outputs": [],
   "source": [
    "import numpy as np\n",
    "import matplotlib.pyplot as plt\n",
    "from mpl_toolkits import mplot3d \n",
    "\n",
    "# Define the function f(x).\n",
    "f = lambda x: (x**2 + 5)**0.5\n",
    "\n",
    "# Plot the function f(x), np.linspace might be helpful.\n",
    "xpoints = np.linspace(-4, 4, 100)\n",
    "ypoints = [0]*len(xpoints)\n",
    "\n",
    "# Creating y values using the given function \n",
    "for i in range(len(xpoints)):\n",
    "    ypoints[i] = f(xpoints[i])\n",
    "\n",
    "# Ploting function \n",
    "plt.plot(xpoints,ypoints)\n",
    "plt.plot(0, 5**0.5, 'ro', label='Minimum')\n",
    "\n",
    "plt.title(\"Gradient Descent to Find Min\")\n",
    "plt.xlabel('x')\n",
    "plt.ylabel('f(x)')\n",
    "plt.legend()\n",
    "plt.show()"
   ]
  },
  {
   "cell_type": "code",
   "execution_count": null,
   "metadata": {
    "id": "2umIP9i5mT1i"
   },
   "outputs": [],
   "source": [
    "# Define the derivative of the function f(x), for gradient descent\n",
    "f.derivative = lambda x: x / ((x**2 + 5)**0.5)\n",
    "\n",
    "# write a function to run the Gradient Descent Algorithm, take input arguments x_0, step_size, and num_iterations; return a list/array of x_k values.\n",
    "def gradientDescent(x0, stepSize, numIterations):\n",
    "    X = [0]*numIterations\n",
    "    X[0] = x0\n",
    "    for i in range(numIterations-1):\n",
    "        X[i+1] = X[i] - (stepSize * f.derivative(X[i]))\n",
    "    \n",
    "    return X\n",
    "\n",
    "# set up/assign initial values\n",
    "x0 = (5/5)+1\n",
    "stepSize = 1\n",
    "numIterations = 50\n",
    "\n",
    "# Run gradient descent by calling the function\n",
    "xK = gradientDescent(x0,stepSize,numIterations)\n",
    "\n",
    "# report x_T by printing out the value\n",
    "xT = xK[-1]\n",
    "print(\"x_t value:\",xT)\n",
    "\n",
    "# Plot the f(x_k) values vs. iteration number\n",
    "xIt = list(range(1,51))\n",
    "\n",
    "plt.plot(xIt,xK)\n",
    "\n",
    "plt.title(\"f(x_k) vs. Iteration Number\")\n",
    "plt.xlabel('k')\n",
    "plt.ylabel('f(x_k)')\n",
    "plt.show()"
   ]
  },
  {
   "cell_type": "code",
   "execution_count": null,
   "metadata": {
    "id": "vjLjdTvYnUpx"
   },
   "outputs": [],
   "source": [
    "# create a list containing step sizes\n",
    "stepSizeList = [5, 3, 1, 0.5]\n",
    "\n",
    "# initialize a list to store the results from different step sizes\n",
    "stepSizeResults = np.zeros((4,50))\n",
    "\n",
    "# loop through the step sizes and perform GD and record results\n",
    "for i in range(len(stepSizeList)):\n",
    "    stepSizeResults[i] = gradientDescent(x0, stepSizeList[i], numIterations)\n",
    "\n",
    "# plot multiple curves in a single graph\n",
    "plt.plot(xIt, stepSizeResults[0], color = \"blue\", label = \"Step Size = 5\")\n",
    "plt.plot(xIt, stepSizeResults[1], color = \"orange\", label = \"Step Size = 3\")\n",
    "plt.plot(xIt, stepSizeResults[2], color = \"green\", label = \"Step Size = 1\")\n",
    "plt.plot(xIt, stepSizeResults[3], color = \"red\", label = \"Step Size = 0.5\")\n",
    "\n",
    "plt.title(\"f(x_k-1)-f(x_k) vs. Iteration Number for Different Step Sizes\")\n",
    "plt.xlabel('x')\n",
    "plt.ylabel('f(x_k-1)-f(x_k)')\n",
    "plt.legend()\n",
    "plt.show()"
   ]
  },
  {
   "cell_type": "markdown",
   "metadata": {
    "id": "b_bgT3b2GYTB"
   },
   "source": [
    "## 3. Linear Regression with Numpy and Graphing with Matplotlib (30 pts)"
   ]
  },
  {
   "cell_type": "markdown",
   "metadata": {
    "id": "3dMvUP6qJQsi"
   },
   "source": [
    "In class, we implemented a linear regression model with one-dimensional features ( $x$-values). However, below, you will find the code for generating synthetic data where the features ( $x$-values) are now two-dimensional.\n",
    "\n",
    "**Change the random seed to be the last two digits of your student ID. For example, if your ID is 123456987, change the random seed to be 87.**\n",
    "\n",
    "The next step involves performing linear regression on this newly generated data. We will employ the normal equation, a topic covered in class, to determine the coefficients and intercept (weights and bias).\n",
    "\n",
    "**Report the parameter values and plot the generated data and the regression plane (in 1D, we have a line, but in 2D, we have a plane).** `numpy.linspace`, `numpy.meshgrid`, and [Surface Plot](https://matplotlib.org/stable/gallery/mplot3d/surface3d.html) methods might be helpful in plotting the plane. You don't have to use them, it is just my suggestions.\n",
    "\n",
    "Here are some sample output graphs. Yours do not have to look exactly like mine, it is just for your reference.\n",
    "![o1](https://raw.githubusercontent.com/wenhangao21/AMS595-Teaching/main/o4.png)\n",
    "\n"
   ]
  },
  {
   "cell_type": "code",
   "execution_count": null,
   "metadata": {
    "id": "QyUVB8pkJQNC"
   },
   "outputs": [],
   "source": [
    "import numpy as np\n",
    "import matplotlib.pyplot as plt\n",
    "from mpl_toolkits import mplot3d \n",
    "\n",
    "# Generate synthetic data\n",
    "np.random.seed(85)   # change the seed to be the last two digits of your SB ID.\n",
    "X = 2 * np.random.rand(100, 2)  # Generate 100 random 2D data points\n",
    "y = 4 + 4 * X[:, 0] + 0.5 * X[:, 1] + np.random.randn(100)  # Generate y values with noise\n",
    "\n",
    "# Add a column of ones to X for the bias terms (intercept) in the normal equation\n",
    "a = np.ones(100)\n",
    "X = np.insert(X, 0, a, axis = 1)\n",
    "\n",
    "# Find theta using the normal equation\n",
    "XT = X.transpose()\n",
    "theta = np.linalg.inv(XT@X)@XT@y\n",
    "\n",
    "# Print the intercept and coefficients of the regression plane\n",
    "print(\"Intercept:\",theta[0])\n",
    "print(\"Coefficients:\",theta[1:3])\n",
    "\n",
    "# Plot the generated data and the regression plane\n",
    "fig = plt.figure(figsize = (10, 7))\n",
    "ax = plt.axes(projection =\"3d\")\n",
    "ax.scatter3D(X[:,1], X[:,2], y, color = \"red\")\n",
    "\n",
    "# Creating a regression plane based on theta calculated from the normal equation \n",
    "x1 = np.linspace(min(X[:,1]), max(X[:,1]), 10)\n",
    "x2 = np.linspace(min(X[:,2]), max(X[:,2]), 10)\n",
    "x1grid, x2grid = np.meshgrid(x1, x2)\n",
    "ygrid = theta[0] + theta[1] * x1grid + theta[2] * x2grid\n",
    "ax.plot_surface(x1grid, x2grid, ygrid, color='blue', alpha=0.3, label='Regression plane')\n",
    "\n",
    "ax.set_xlabel('X1')\n",
    "ax.set_ylabel('X2')\n",
    "plt.title(\"Linear Regression Plane\")\n",
    "plt.show()"
   ]
  },
  {
   "cell_type": "markdown",
   "metadata": {
    "id": "2UaGJmh1PZ0G"
   },
   "source": [
    "## 4. Logistic Regression with Numpy and Graphing with Matplotlib (20 pts)"
   ]
  },
  {
   "cell_type": "markdown",
   "metadata": {
    "id": "hPiFkVozoO9n"
   },
   "source": [
    "In class, we implemented a logistic regression model to perform binary classification. Here, I provided the exact same code that we discussed in class, but the values for learning_rate and num_epochs are modified. I also removed all the comments. You task is to\n",
    "1. Tune the Learning Rate and Number of Epochs: Your first task is to fine-tune the values for the learning_rate and num_epochs parameters. Your goal is to identify suitable values that will enable us to converge to a set of parameter values $\\theta$ closely approximating the optimal parameter values $\\theta^*$.\n",
    "2. Code Explanation: To enhance code comprehension, please augment the code with meaningful comments. These comments should elucidate the purpose and functionality of each code segment, making it easier for readers to understand the logistic regression implementation.\n",
    "\n",
    "By accomplishing these tasks, we aim to achieve a better understanding of the logistic regression model's behavior and its parameter optimization process."
   ]
  },
  {
   "cell_type": "code",
   "execution_count": null,
   "metadata": {
    "id": "gsISUaPppsSA"
   },
   "outputs": [],
   "source": [
    "import numpy as np\n",
    "import matplotlib.pyplot as plt\n",
    "\n",
    "# Defining sigmoid function that maps any real number to a number between 0 and 1\n",
    "def sigmoid(z):\n",
    "    return 1 / (1 + np.exp(-z))\n",
    "\n",
    "# Creating a stable set of random values between 0 and 1\n",
    "np.random.seed(595)\n",
    "X = np.random.rand(2, 100)\n",
    "\n",
    "# Initializing the true weights and biases used to classify the X values \n",
    "w_true = np.array([1.5, -2.5])\n",
    "b_true = 1.0  # True bias\n",
    "\n",
    "# Calculating the probability that a certain X value falls into class 0 or 1\n",
    "probabilities = sigmoid(np.dot(w_true.T, X) + b_true)\n",
    "\n",
    "# Classifying all probabilities into 0 or 1. Probabilities get assigned value 0 if they are less than or equal to 0.5 and value 1 if they are greater than 0.5\n",
    "Y = (probabilities > 0.5).astype(int)\n",
    "\n",
    "# Adding random noise to the original X data\n",
    "X = X + 0.3 * np.random.rand(2, 100) - 0.1 * np.random.rand(2, 100)\n",
    "\n",
    "# Subsetting the new X values into 80 training pieces and 20 testing pieces \n",
    "X_train, X_test = X[:,:80], X[:,80:]\n",
    "Y_train, Y_test = Y[:80], Y[80:]\n",
    "\n",
    "# Setting the initial weights and biases to 0 \n",
    "w = np.zeros(X.shape[0])\n",
    "b = 0.0\n",
    "\n",
    "# Initializing the learning rate and number of iterations for the gradient descent to run\n",
    "learning_rate = 155\n",
    "num_epochs = 270\n",
    "\n",
    "# Running gradient descent\n",
    "for epoch in range(num_epochs):\n",
    "    # Calling logistic function for training data\n",
    "    A_train = sigmoid(np.dot(w.T, X_train) + b)\n",
    "\n",
    "    # Calculating gradients\n",
    "    dJdw = np.dot(X_train, (A_train - Y_train).T) / len(Y_train)\n",
    "    dJdb = np.mean(A_train - Y_train)\n",
    "\n",
    "    # Adjusting weights and biases according to the learning rate\n",
    "    w -= learning_rate * dJdw\n",
    "    b -= learning_rate * dJdb\n",
    "\n",
    "# Determining the class for the training data\n",
    "A_train = sigmoid(np.dot(w.T, X_train) + b)\n",
    "predictions_train = (A_train > 0.5).astype(int)\n",
    "\n",
    "# Determining the class for the testing data\n",
    "A_test = sigmoid(np.dot(w.T, X_test) + b)\n",
    "predictions_test = (A_test > 0.5).astype(int)\n",
    "\n",
    "# Calculating accuracy of classification for the training set\n",
    "train_accuracy = np.mean(predictions_train == Y_train)\n",
    "\n",
    "# Calculating accuracy of classification for the testing set\n",
    "test_accuracy = np.mean(predictions_test == Y_test)\n",
    "\n",
    "print(f\"Training Set Accuracy: {train_accuracy:.2f}\")\n",
    "print(f\"Test Set Accuracy: {test_accuracy:.2f}\")"
   ]
  },
  {
   "cell_type": "code",
   "execution_count": null,
   "metadata": {
    "id": "gaSc4w_Bp6gd"
   },
   "outputs": [],
   "source": [
    "# Creating a scatter plot of the training data \n",
    "plt.scatter(X[0, :80], X[1,:80], c=Y[:80], cmap=plt.cm.Paired)\n",
    "plt.xlim(-0.2, 1.2)\n",
    "plt.ylim(-0.2, 1.2)\n",
    "ax = plt.gca()\n",
    "\n",
    "# Fitting a logistic regression line to the data\n",
    "xlim = ax.get_xlim()\n",
    "ylim = ax.get_ylim()\n",
    "xx, yy = np.meshgrid(np.linspace(xlim[0], xlim[1], 50), np.linspace(ylim[0], ylim[1], 50))\n",
    "Z = np.dot(w.T, np.c_[xx.ravel(), yy.ravel()].T) + b\n",
    "Z = sigmoid(Z)\n",
    "\n",
    "# Reshaping logistic regression line to present as a linear graph\n",
    "Z = Z.reshape(xx.shape)\n",
    "plt.contour(xx, yy, Z, colors='k', levels=[0.5], alpha=0.5, linestyles=['--'])\n",
    "\n",
    "# Creating final logistic regression plot \n",
    "plt.xlabel('Feature 1')\n",
    "plt.ylabel('Feature 2')\n",
    "plt.title('Logistic Regression Decision Boundary')\n",
    "plt.show()"
   ]
  },
  {
   "cell_type": "code",
   "execution_count": null,
   "metadata": {
    "id": "jKSMwrjMqA7d"
   },
   "outputs": [],
   "source": [
    "# Creating a scatter plot of the training data \n",
    "plt.scatter(X[0, 80:], X[1, 80:], c=Y[80:], cmap=plt.cm.Paired)\n",
    "plt.xlim(-0.2, 1.2)\n",
    "plt.ylim(-0.2, 1.2)\n",
    "\n",
    "# Fitting a logistic regression line to the data\n",
    "ax = plt.gca()\n",
    "xlim = ax.get_xlim()\n",
    "ylim = ax.get_ylim()\n",
    "xx, yy = np.meshgrid(np.linspace(xlim[0], xlim[1], 50), np.linspace(ylim[0], ylim[1], 50))\n",
    "Z = np.dot(w.T, np.c_[xx.ravel(), yy.ravel()].T) + b\n",
    "Z = sigmoid(Z)\n",
    "\n",
    "# Reshaping logistic regression line to present as a linear graph\n",
    "Z = Z.reshape(xx.shape)\n",
    "plt.contour(xx, yy, Z, colors='k', levels=[0.5], alpha=0.5, linestyles=['--'])\n",
    "\n",
    "# Creating final logistic regression plot \n",
    "plt.xlabel('Feature 1')\n",
    "plt.ylabel('Feature 2')\n",
    "plt.title('Logistic Regression Decision Boundary')\n",
    "plt.show()"
   ]
  },
  {
   "cell_type": "markdown",
   "metadata": {
    "id": "tw90j2QVP07p"
   },
   "source": [
    "## 5. Image Binary Classification (30 pts)\n",
    "\n"
   ]
  },
  {
   "cell_type": "markdown",
   "metadata": {
    "id": "FjdUaeQ-rbO8"
   },
   "source": [
    "For Question 5 of the Python project, please complete it using two distinct Jupyter Notebook scripts. This entails using one notebook for the original dataset and another for the modified dataset. Consequently, you will be submitting a total of three .ipynb files as part of your Python project, ensuring clear separation and organization of your work.\n",
    "\n",
    "Your tasks:\n",
    "1. Your first task is to re-implement the classification model that was covered in our class. Please start from scratch and write the code independently. You can refer to the original code provided on Brightspace if you encounter any difficulties, but try to write the code on your own to reinforce your understanding.\n",
    "\n",
    "2. After implementing the classification model, **report the indices of all the images in the test set for which the model's predictions are incorrect.** To maintain consistency with Python’s convention, please begin your indexing with 0. Additionally, **display the images of 4 of these failed cases for visual examination (you can display more if you like)**. This analysis might help us identify instances where the model is struggling in some applications.\n",
    "\n",
    "3. Now you will modify the code to treat the dataset differently. The first 160 images plus the last digit of your Student ID will constitute the new training set, while the remaining images in the original training set will be your new test set. There are 209 images in the original training set. For example, if your ID ends with 0, the first 160 images will form your training set, and the remaining 49 images will be part of your test set. The test dataset is discarded and no longer used. Re-train the model using this modified dataset and **report the training and test accuracies**. Additionally, **provide the indices of all the images in the test set for which the model's predictions are incorrect. Display 4 of these misclassified images for further examination.**\n",
    "\n",
    "By completing these tasks, you'll gain valuable insights into the classification model's performance and its behavior under different training and testing conditions."
   ]
  },
  {
   "cell_type": "markdown",
   "metadata": {
    "id": "ClgZIN_-P8Hv"
   },
   "source": [
    "\n",
    "  Datasets: [train]: train_catvnoncat.h5, [test]: test_catvnoncat.h5"
   ]
  }
 ],
 "metadata": {
  "anaconda-cloud": {},
  "colab": {
   "provenance": []
  },
  "kernelspec": {
   "display_name": "Python 3",
   "language": "python",
   "name": "python3"
  },
  "language_info": {
   "codemirror_mode": {
    "name": "ipython",
    "version": 3
   },
   "file_extension": ".py",
   "mimetype": "text/x-python",
   "name": "python",
   "nbconvert_exporter": "python",
   "pygments_lexer": "ipython3",
   "version": "3.11.3"
  }
 },
 "nbformat": 4,
 "nbformat_minor": 0
}
