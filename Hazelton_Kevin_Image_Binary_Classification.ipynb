{
 "cells": [
  {
   "cell_type": "markdown",
   "metadata": {},
   "source": [
    "Image Binary Classification "
   ]
  },
  {
   "cell_type": "code",
   "execution_count": null,
   "metadata": {},
   "outputs": [],
   "source": [
    "# importing packages\n",
    "import torch\n",
    "import torch.nn as nn\n",
    "import torch.optim as optim\n",
    "from torch.utils.data import Dataset, DataLoader\n",
    "from torchvision import transforms\n",
    "import numpy\n",
    "import matplotlib.pyplot as plt\n",
    "import h5py"
   ]
  },
  {
   "cell_type": "code",
   "execution_count": null,
   "metadata": {},
   "outputs": [],
   "source": [
    "# creating dataset with dataset class\n",
    "class H5Data(Dataset):\n",
    "    def __init__(self, h5_file, transform=None):\n",
    "        self.transform = transform\n",
    "        with h5py.File(h5_file, 'r') as f:\n",
    "            self.data = f['train_set_x'][:] \n",
    "            self.labels = f['train_set_y'][:] \n",
    "\n",
    "        self.label_mapping = {'cat': 0, 'non-cat': 1}\n",
    "\n",
    "    def __len__(self):\n",
    "        return len(self.labels)\n",
    "\n",
    "    def __getitem__(self, id):\n",
    "        image = self.data[id]\n",
    "        label = self.labels[id]\n",
    "\n",
    "        if isinstance(label, bytes):\n",
    "            label = label.decode('utf-8')  \n",
    "            label = self.label_mapping[label]\n",
    "\n",
    "        if self.transform:\n",
    "            image = self.transform(image)\n",
    "\n",
    "        # Converting images to tensors\n",
    "        image = torch.tensor(image, dtype=torch.float32) \n",
    "        label = torch.tensor(label, dtype=torch.long)  \n",
    "\n",
    "        return image, label\n",
    "\n",
    "transform = transforms.Compose([\n",
    "    transforms.ToPILImage(),               \n",
    "    transforms.Resize((64, 64)),          \n",
    "    transforms.ToTensor(),           \n",
    "    transforms.Normalize(mean=[0.5], std=[0.5])  #\n",
    "])\n",
    "\n",
    "# Loading in dataset\n",
    "cat_data = H5Data(\"C:/Users/kshaz/Desktop/School Documents/Stony Brook Docs/Homework/AMS_595/Project 6/train_catvnoncat.h5\", transform = transform)\n",
    "cat_data_loader = DataLoader(cat_data, batch_size=32, shuffle=True)"
   ]
  },
  {
   "cell_type": "code",
   "execution_count": null,
   "metadata": {},
   "outputs": [],
   "source": [
    "# Creating deep neural network \n",
    "class DeepNN(nn.Module):\n",
    "    def __init__(self, input_size, hidden_size, output_size):\n",
    "        super(DeepNN, self).__init__()\n",
    "        self.fc1 = nn.Linear(input_size, hidden_size)\n",
    "        self.relu1 = nn.ReLU()\n",
    "        self.fc2 = nn.Linear(hidden_size, hidden_size)\n",
    "        self.relu2 = nn.ReLU()\n",
    "        self.fc3 = nn.Linear(hidden_size, hidden_size)\n",
    "        self.relu3 = nn.ReLU()\n",
    "        self.fc4 = nn.Linear(hidden_size, output_size)\n",
    "\n",
    "    def forward(self, x):\n",
    "        x = x.view(x.size(0), -1) \n",
    "        x = self.fc1(x)\n",
    "        x = self.relu1(x)\n",
    "        x = self.fc2(x)\n",
    "        x = self.relu2(x)\n",
    "        x = self.fc3(x)\n",
    "        x = self.relu3(x)\n",
    "        x = self.fc4(x)\n",
    "        return x\n",
    "\n",
    "# setting model based on image parameters\n",
    "input_size = 64 * 64 *3\n",
    "hidden_size = 5\n",
    "output_size = 2\n",
    "m1 = DeepNN(input_size, hidden_size, output_size)\n",
    "\n",
    "# setting loss function with cross entropy loss\n",
    "criterion = nn.CrossEntropyLoss()\n",
    "optimizer = optim.Adam(m1.parameters(), lr=0.01)\n",
    "\n",
    "epochs = 100\n",
    "for epoch in range(epochs):\n",
    "    for images, labels in cat_data_loader:\n",
    "        optimizer.zero_grad()\n",
    "        outputs = m1(images)\n",
    "        loss = criterion(outputs, labels)\n",
    "        loss.backward()\n",
    "        optimizer.step()"
   ]
  }
 ],
 "metadata": {
  "kernelspec": {
   "display_name": "Python 3",
   "language": "python",
   "name": "python3"
  },
  "language_info": {
   "codemirror_mode": {
    "name": "ipython",
    "version": 3
   },
   "file_extension": ".py",
   "mimetype": "text/x-python",
   "name": "python",
   "nbconvert_exporter": "python",
   "pygments_lexer": "ipython3",
   "version": "3.11.3"
  }
 },
 "nbformat": 4,
 "nbformat_minor": 2
}
